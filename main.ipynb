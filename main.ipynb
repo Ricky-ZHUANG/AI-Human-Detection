{
 "cells": [
  {
   "cell_type": "markdown",
   "metadata": {},
   "source": [
    "# Load library"
   ]
  },
  {
   "cell_type": "code",
   "execution_count": 1,
   "metadata": {},
   "outputs": [],
   "source": [
    "import numpy as np\n",
    "import cv2\n",
    "import torch\n",
    "from torch.utils.data import Dataset, DataLoader\n",
    "from torchvision import transforms\n",
    "from pathlib import Path\n",
    "import matplotlib\n",
    "from sklearn.model_selection import train_test_split\n",
    "from torch.autograd import Variable\n",
    "import torch.optim as optim\n",
    "import torchvision"
   ]
  },
  {
   "cell_type": "code",
   "execution_count": 2,
   "metadata": {},
   "outputs": [
    {
     "name": "stdout",
     "output_type": "stream",
     "text": [
      "cv2==4.8.1\n",
      "numpy==1.26.1\n",
      "torch==2.1.0\n",
      "matplotlib==3.8.1\n"
     ]
    }
   ],
   "source": [
    "# check version\n",
    "print(\"cv2==\"+str(cv2.__version__))\n",
    "print(\"numpy==\"+str(np.__version__))\n",
    "print(\"torch==\"+str(torch.__version__))\n",
    "print(\"matplotlib==\"+str(matplotlib.__version__))"
   ]
  },
  {
   "cell_type": "code",
   "execution_count": 3,
   "metadata": {},
   "outputs": [],
   "source": [
    "from utils.FastF import get_magnitude_spectrum\n",
    "from utils.noise_map import get_noise_map"
   ]
  },
  {
   "cell_type": "code",
   "execution_count": null,
   "metadata": {},
   "outputs": [],
   "source": [
    "bsz = 64\n",
    "log_interval = 100\n",
    "gpu = True\n",
    "device = 'CUDA'"
   ]
  },
  {
   "cell_type": "markdown",
   "metadata": {},
   "source": [
    "# Data Loader"
   ]
  },
  {
   "cell_type": "code",
   "execution_count": 9,
   "metadata": {},
   "outputs": [
    {
     "name": "stdout",
     "output_type": "stream",
     "text": [
      "passes\n"
     ]
    }
   ],
   "source": [
    "# test 两个方程可以跑\n",
    "path = 'data/example.jpeg'\n",
    "img = cv2.imread(path)\n",
    "get_magnitude_spectrum(path)\n",
    "get_noise_map(path)\n",
    "print(\"passes\")"
   ]
  },
  {
   "cell_type": "code",
   "execution_count": 14,
   "metadata": {},
   "outputs": [
    {
     "name": "stdout",
     "output_type": "stream",
     "text": [
      "passed\n"
     ]
    }
   ],
   "source": [
    "# test dataset 可以读到数据\n",
    "root = 'face dataset/test/fake'\n",
    "images_path = Path(root)\n",
    "images_list = list(images_path.glob('*.jpg'))\n",
    "images_list_str = [ str(x) for x in images_list ]\n",
    "images_list_str\n",
    "# print(images_list_str[1])\n",
    "for image_path in images_list_str:\n",
    "    oroginal = cv2.imread(image_path)\n",
    "    noise = get_noise_map(image_path)\n",
    "    magnitude = get_magnitude_spectrum(image_path)\n",
    "print(\"passed\")"
   ]
  },
  {
   "cell_type": "code",
   "execution_count": 15,
   "metadata": {},
   "outputs": [],
   "source": [
    "class FaceDataset(Dataset):\n",
    "    def __init__(self, real_root, fake_root):\n",
    "        self.samples = list(range(1, 1001))\n",
    "        self.real_root = real_root\n",
    "        images_path_real = Path(real_root)\n",
    "        images_list_real = list(images_path_real.glob('*.jpg'))\n",
    "        images_list_str_real = [ str(x) for x in images_list_real ]\n",
    "        true_label = [1 for _ in images_list_real]\n",
    "\n",
    "        images_path_fake = Path(fake_root)\n",
    "        images_list_fake = list(images_path_fake.glob('*.jpg'))\n",
    "        images_list_str_fake = [ str(x) for x in images_list_fake ]\n",
    "        false_label = [0 for _ in images_list_fake]\n",
    "\n",
    "        self.images = images_list_str_real+images_list_str_fake\n",
    "        self.labels = true_label+false_label\n",
    "        \n",
    "\n",
    "    def __len__(self):\n",
    "        return len(self.samples)\n",
    "\n",
    "    def __getitem__(self, idx):\n",
    "        image_path = self.images[idx]\n",
    "        \n",
    "        oroginal = cv2.imread(image_path)\n",
    "        noise = get_noise_map(image_path)\n",
    "        magnitude = get_magnitude_spectrum(image_path)\n",
    "        label = self.labels[idx]\n",
    "\n",
    "        sample = {\n",
    "            \"oroginal\" : oroginal,\n",
    "            \"noise\" : noise,\n",
    "            \"magnitude\" : magnitude,\n",
    "            \"label\" : label\n",
    "        }\n",
    "        return sample\n"
   ]
  },
  {
   "cell_type": "code",
   "execution_count": null,
   "metadata": {},
   "outputs": [],
   "source": [
    "# table_train,table_test = train_test_split(main_table, test_size=0.2)\n",
    "train = FaceDataset()\n",
    "train_loader = DataLoader(train, batch_size=bsz, shuffle=True)\n",
    "test = FaceDataset()\n",
    "test_loader = DataLoader(test, batch_size=bsz, shuffle=True)"
   ]
  },
  {
   "cell_type": "markdown",
   "metadata": {},
   "source": [
    "# Define Model"
   ]
  },
  {
   "cell_type": "code",
   "execution_count": null,
   "metadata": {},
   "outputs": [],
   "source": [
    "model = torchvision.models.vgg19(pretrained=False)\n",
    "if gpu:\n",
    "    model = model.to(device)\n",
    "optimizer = optim.Adagrad(model.parameters())"
   ]
  },
  {
   "cell_type": "markdown",
   "metadata": {},
   "source": [
    "# Train"
   ]
  },
  {
   "cell_type": "code",
   "execution_count": null,
   "metadata": {},
   "outputs": [],
   "source": [
    "def training(data_loader):\n",
    "    model.train()\n",
    "    total_loss = 0\n",
    "\n",
    "    for iteration, sample in enumerate(data_loader):\n",
    "        oroginal = Variable(sample['original'])\n",
    "        noise = Variable(sample['noise'])\n",
    "        magnitude = Variable(sample['magnitude'])\n",
    "\n",
    "        label_true = Variable(sample['label'])\n",
    "\n",
    "    if gpu:\n",
    "        noise=noise.to(device)\n",
    "        oroginal=oroginal.to(device)\n",
    "        magnitude=magnitude.to(device)\n",
    "        label_true=label_true.to(device)\n",
    "    \n",
    "    label = model() # FIXME\n",
    "    loss = 0 # FIXME\n",
    "    loss.backward()\n",
    "    optimizer.step() \n",
    "    total_loss += loss.data\n",
    "\n",
    "    if iteration%log_interval == 0 and iteration > 0:\n",
    "            # print('total loss: ',str(total_loss))\n",
    "            cur_loss = total_loss.item() / log_interval\n",
    "            print('| epoch {:3d} | batches {:5d} | loss {:8.5f}'.format(epoch,iteration,cur_loss))\n",
    "            total_loss = 0"
   ]
  },
  {
   "cell_type": "code",
   "execution_count": null,
   "metadata": {},
   "outputs": [],
   "source": [
    "def evaluate(data_loader):\n",
    "    model.eval()\n",
    "    total_loss = 0\n",
    "\n",
    "    with torch.no_grad():\n",
    "        for iteration, sample in enumerate(data_loader):\n",
    "            oroginal = Variable(sample['original'])\n",
    "            noise = Variable(sample['noise'])\n",
    "            magnitude = Variable(sample['magnitude'])\n",
    "\n",
    "            label_true = Variable(sample['label'])\n",
    "\n",
    "        if gpu:\n",
    "            noise=noise.to(device)\n",
    "            oroginal=oroginal.to(device)\n",
    "            magnitude=magnitude.to(device)\n",
    "            label_true=label_true.to(device)    \n",
    "\n",
    "        label = model() # FIXME\n",
    "        loss = 0        # FIXME\n",
    "        total_loss += loss.data\n",
    "\n",
    "    print('RI mse', total_loss.item()/(iteration+1)) # FIXME"
   ]
  },
  {
   "cell_type": "code",
   "execution_count": null,
   "metadata": {},
   "outputs": [],
   "source": [
    "epochs = 2\n",
    "try:\n",
    "    for epoch in range(1, epochs+1):\n",
    "        # epoch_start_time = time.time()\n",
    "        training(train_loader)\n",
    "        evaluate(test_loader)\n",
    "        print('-'*89)\n",
    "except KeyboardInterrupt:\n",
    "    print('-'*89)\n",
    "    print('Existing from training early')"
   ]
  }
 ],
 "metadata": {
  "kernelspec": {
   "display_name": "Python 3 (ipykernel)",
   "language": "python",
   "name": "python3"
  },
  "language_info": {
   "codemirror_mode": {
    "name": "ipython",
    "version": 3
   },
   "file_extension": ".py",
   "mimetype": "text/x-python",
   "name": "python",
   "nbconvert_exporter": "python",
   "pygments_lexer": "ipython3",
   "version": "3.9.18"
  }
 },
 "nbformat": 4,
 "nbformat_minor": 4
}
